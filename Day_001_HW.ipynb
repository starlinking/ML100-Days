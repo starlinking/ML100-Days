{
 "cells": [
  {
   "cell_type": "markdown",
   "metadata": {},
   "source": [
    "作業1：\n",
    "\n",
    "請上 Kaggle, 在 Competitions 或 Dataset 中找一組競賽或資料並寫下：\n",
    "\n",
    "\n",
    "1. 你選的這組資料為何重要\n",
    "\n",
    "Data Source: https://www.kaggle.com/jeanmidev/smart-meters-in-london/home\n",
    "It is so important to better follow the energy consumption. \n",
    "Smart meters play a key role to have an advanced metering infrastructure in smart cities.\n",
    "\n",
    "2. 資料從何而來 (tips: 譬如提供者是誰、以什麼方式蒐集)\n",
    "\n",
    "Smart Meters with wire or wireless module to collect interval field meter data\n",
    "UK power networks for the smart meter data\n",
    "The data source is from UK government for London city.\n",
    "The infrastructure is called AMI (Advanced Metering Infrastructure).\n",
    "\n",
    "3. 蒐集而來的資料型態為何\n",
    "\n",
    "Weather Data, and 30 mins, hourly and daily interval Meter Data\n",
    "LCLid (household id), Date, energy (median, mean, max, count, std, sum, min)\n",
    "\n",
    "4. 這組資料想解決的問題如何評估\n",
    "\n",
    "If we can monitor energy consumption more close to real time (e.g. minimum update interval 30 mins in this case), we can do more energy planning in advance and lower risks in energy shortage. \n",
    "Besides, it is better understand peak and non-peak electric usage pattern according to local residential areas. \n",
    "It will help local government to define new pricing options as a practical example.\n",
    "\n",
    "作業2：\n",
    "\n",
    "想像你經營一個自由載客車隊，你希望能透過數據分析以提升業績，請你思考並描述你如何規劃整體的分析/解決方案：\n",
    "\n",
    "\n",
    "1. 核心問題為何 (tips：如何定義 「提升業績 & 你的假設」)\n",
    "\n",
    "Key Indicators: \n",
    "To lower empty rate for each driver/vehicle is an essential objective.\n",
    "We need to analyze historical traffic data, weather data, pick up locations in commercial and residential areas.\n",
    "To forecast vehicle demands in order to allocate enough resources in high demand blocks during rush hours.\n",
    "For off-peak time, we need to consider the routes to train/MRT stations, famous restaurants and hospitals for business, residential, disabled users.\n",
    "\n",
    "2. 資料從何而來 (tips：哪些資料可能會對你想問的問題產生影響 & 資料如何蒐集)\n",
    "\n",
    "Traffic Data: Open Data from Taipei City government (e.g. https://data.taipei/index)\n",
    "Weather Data: CWB\n",
    "Map Data with Points of Interest \n",
    "As we know, Google maps contain historical traffic data but never releaseing for public access.\n",
    "To collect field data by each team member. But it will take time to have sufficient data to do further analysis.\n",
    "In addition to rely on Google maps to avoid traffic jam, we can more focus on user behaviors by areas.\n",
    "\n",
    "3. 蒐集而來的資料型態為何\n",
    "\n",
    "Key User Demands: Locations, Time Slots, Routes, etc.\n",
    "Weather Data: Locations, Raining, Cold, etc.)\n",
    "High demands for vehicles: Taipei 101, Taipei main station, Hospitals, MRT stations, etc.\n",
    "\n",
    "4. 你要回答的問題，其如何評估 (tips：你的假設如何驗證)\n",
    "\n",
    "To have weekly report for passenger load factor from each team member (vehical driver) according to different areas (maybe divide Taipei city to many smaller cells for better analysis).\n",
    "\n",
    "\n",
    "作業3：請點選檢視範例依照 Day_001_example_of_metrics.ipynb 完成 Mean Squared Error 的函式\n",
    "## 練習時間\n",
    "#### 請寫一個函式用來計算 Mean Square Error\n",
    "$ MSE = \\frac{1}{n}\\sum_{i=1}^{n}{(Y_i - \\hat{Y}_i)^2} $\n",
    "\n",
    "    ### Hint: [如何取平方](https://googoodesign.gitbooks.io/-ezpython/unit-1.html)"
   ]
  },
  {
   "cell_type": "code",
   "execution_count": 170,
   "metadata": {},
   "outputs": [],
   "source": [
    "import numpy as np\n",
    "import matplotlib.pyplot as plt"
   ]
  },
  {
   "cell_type": "code",
   "execution_count": 171,
   "metadata": {},
   "outputs": [],
   "source": [
    "def mean_squared_error(yr, yp):\n",
    "    \"\"\"\n",
    "    計算 MSE\n",
    "    Args:\n",
    "        - yr: 實際值\n",
    "        - yp: 預測值\n",
    "    Return:\n",
    "        - mse: MSE\n",
    "    \"\"\"\n",
    "    mse = sum((yr - yp)**2) / len(yr)\n",
    "    \n",
    "    return mse"
   ]
  },
  {
   "cell_type": "code",
   "execution_count": 172,
   "metadata": {},
   "outputs": [],
   "source": [
    "def mean_absolute_error(yr, yp):\n",
    "    \"\"\"\n",
    "    計算 MAE\n",
    "    Args:\n",
    "        - yr: 實際值\n",
    "        - yp: 預測值\n",
    "    Return:\n",
    "        - mae: MAE\n",
    "    \"\"\"\n",
    "    mae = sum(abs(yr - yp)) / len(yr)\n",
    "    \n",
    "    return mae"
   ]
  },
  {
   "cell_type": "code",
   "execution_count": 173,
   "metadata": {},
   "outputs": [
    {
     "data": {
      "image/png": "[encoded data removed]",
      "text/plain": [
       "<Figure size 432x288 with 1 Axes>"
      ]
     },
     "metadata": {
      "needs_background": "light"
     },
     "output_type": "display_data"
    }
   ],
   "source": [
    "w = 3\n",
    "b = 0.5\n",
    "\n",
    "x_lin = np.linspace(0, 100, 101)\n",
    "\n",
    "y = (x_lin + np.random.randn(101) * 5) * w + b\n",
    "#print(y)\n",
    "\n",
    "plt.plot(x_lin, y, 'b.', label = 'data points')\n",
    "plt.title(\"Assume we have data points\")\n",
    "plt.legend(loc = 2)\n",
    "plt.show()"
   ]
  },
  {
   "cell_type": "code",
   "execution_count": 174,
   "metadata": {},
   "outputs": [
    {
     "data": {
      "image/png": "[encoded data removed]",
      "text/plain": [
       "<Figure size 432x288 with 1 Axes>"
      ]
     },
     "metadata": {
      "needs_background": "light"
     },
     "output_type": "display_data"
    }
   ],
   "source": [
    "y_hat = x_lin * w + b\n",
    "#print(y_hat)\n",
    "plt.plot(x_lin, y, 'b.', label = 'data')\n",
    "plt.plot(x_lin, y_hat, 'r-', label = 'prediction')\n",
    "plt.title(\"Assume we have data points (And the prediction)\")\n",
    "plt.legend(loc = 2)\n",
    "plt.show()"
   ]
  },
  {
   "cell_type": "code",
   "execution_count": 175,
   "metadata": {},
   "outputs": [
    {
     "name": "stdout",
     "output_type": "stream",
     "text": [
      "The Mean squared error is 192.173\n",
      "The Mean absolute error is 11.397\n"
     ]
    }
   ],
   "source": [
    "# 執行 Function, 確認有沒有正常執行\n",
    "MSE = mean_squared_error(y, y_hat)\n",
    "MAE = mean_absolute_error(y, y_hat)\n",
    "print(\"The Mean squared error is %.3f\" % (MSE))\n",
    "print(\"The Mean absolute error is %.3f\" % (MAE))"
   ]
  },
  {
   "cell_type": "code",
   "execution_count": null,
   "metadata": {},
   "outputs": [],
   "source": []
  }
 ],
 "metadata": {
  "anaconda-cloud": {},
  "kernelspec": {
   "display_name": "Python 3",
   "language": "python",
   "name": "python3"
  },
  "language_info": {
   "codemirror_mode": {
    "name": "ipython",
    "version": 3
   },
   "file_extension": ".py",
   "mimetype": "text/x-python",
   "name": "python",
   "nbconvert_exporter": "python",
   "pygments_lexer": "ipython3",
   "version": "3.7.0"
  }
 },
 "nbformat": 4,
 "nbformat_minor": 1
}
